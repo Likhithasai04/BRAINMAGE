{
 "cells": [
  {
   "cell_type": "code",
   "execution_count": null,
   "id": "b5274104-b084-4a7b-aee8-b821e22b5386",
   "metadata": {},
   "outputs": [],
   "source": [
    "\"\"\"\n",
    "Th"
   ]
  },
  {
   "cell_type": "code",
   "execution_count": 1,
   "id": "e30bbbfd-2f5e-4f1a-83b2-d6e5e20fb4d0",
   "metadata": {},
   "outputs": [
    {
     "name": "stdout",
     "output_type": "stream",
     "text": [
      "నేనిచ్చిన సంభాషించడం మర్చిపోతాను\n"
     ]
    }
   ],
   "source": [
    "from indicnlp.tokenize import indic_tokenize\n",
    "from random import choice\n",
    "\n",
    "# Load Telugu synonym dictionary (manually created or from NLP resources)\n",
    "synonym_dict = {\n",
    "    \"మాట్లాడడం\": [\"సంభాషించడం\", \"చర్చించడం\"],\n",
    "    \"నేను\": [\"నేనెవ్వడు\", \"నేనిచ్చిన\"]\n",
    "}\n",
    "\n",
    "# Synonym Replacement Function\n",
    "def synonym_replace(text):\n",
    "    tokens = indic_tokenize.trivial_tokenize(text, lang='te')\n",
    "    augmented_text = []\n",
    "    for word in tokens:\n",
    "        if word in synonym_dict:\n",
    "            augmented_text.append(choice(synonym_dict[word]))\n",
    "        else:\n",
    "            augmented_text.append(word)\n",
    "    return \" \".join(augmented_text)\n",
    "\n",
    "input_text = \"నేను మాట్లాడడం మర్చిపోతాను\"\n",
    "print(synonym_replace(input_text))\n"
   ]
  },
  {
   "cell_type": "code",
   "execution_count": null,
   "id": "9ce945df-6250-4160-91a4-52204b3926a8",
   "metadata": {},
   "outputs": [],
   "source": [
    "import fitz  # PyMuPDF\n",
    "from pytesseract import image_to_string\n",
    "from PIL import Image\n",
    "\n",
    "# Configure Tesseract (set the path if needed, especially on Windows)\n",
    "# pytesseract.pytesseract.tesseract_cmd = r\"C:\\Program Files\\Tesseract-OCR\\tesseract.exe\"\n",
    "\n",
    "def extract_text_with_ocr(pdf_path, output_file=None, lang=\"tel\"):\n",
    "    try:\n",
    "        document = fitz.open(pdf_path)\n",
    "        extracted_text = \"\"\n",
    "\n",
    "        for page_num in range(len(document)):\n",
    "            page = document[page_num]\n",
    "            # Try extracting text normally\n",
    "            text = page.get_text()\n",
    "            if not text.strip():\n",
    "                # Use OCR if the page has no extractable text\n",
    "                pix = page.get_pixmap()\n",
    "                image = Image.frombytes(\"RGB\", [pix.width, pix.height], pix.samples)\n",
    "                text = image_to_string(image, lang=lang)\n",
    "            extracted_text += text + \"\\n\"\n",
    "        \n",
    "        # Optionally save to a file\n",
    "        if output_file:\n",
    "            with open(output_file, \"w\", encoding=\"utf-8\") as file:\n",
    "                file.write(extracted_text)\n",
    "        \n",
    "        print(\"OCR-based text extraction complete.\")\n",
    "        return extracted_text\n",
    "\n",
    "    except Exception as e:\n",
    "        print(f\"Error: {e}\")\n",
    "\n",
    "# Usage\n",
    "pdf_path = \"synonyms_telugu.pdf\"  \n",
    "output_file = \"output_telugu.txt\" \n",
    "text = extract_text_with_ocr(pdf_path, output_file)\n",
    "print(\"done\")  \n"
   ]
  }
 ],
 "metadata": {
  "kernelspec": {
   "display_name": "Python 3 (ipykernel)",
   "language": "python",
   "name": "python3"
  },
  "language_info": {
   "codemirror_mode": {
    "name": "ipython",
    "version": 3
   },
   "file_extension": ".py",
   "mimetype": "text/x-python",
   "name": "python",
   "nbconvert_exporter": "python",
   "pygments_lexer": "ipython3",
   "version": "3.12.3"
  }
 },
 "nbformat": 4,
 "nbformat_minor": 5
}
