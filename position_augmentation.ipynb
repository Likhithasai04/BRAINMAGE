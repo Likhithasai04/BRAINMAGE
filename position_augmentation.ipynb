{
  "nbformat": 4,
  "nbformat_minor": 0,
  "metadata": {
    "colab": {
      "provenance": []
    },
    "kernelspec": {
      "name": "python3",
      "display_name": "Python 3"
    },
    "language_info": {
      "name": "python"
    }
  },
  "cells": [
    {
      "cell_type": "markdown",
      "source": [
        "THIS SNIPPET DESCRIBES ABOUT A TRANSLATOR I HAVE IMPLEMENTED TO AUGEMENT DATA BY CHANGING THE POSITION OF WORDS\n"
      ],
      "metadata": {
        "id": "XNNSFT2J7rBw"
      }
    },
    {
      "cell_type": "code",
      "source": [
        "import pytesseract\n",
        "pytesseract.pytesseract.tesseract_cmd = r'C:\\path\\to\\tesseract.exe'  # For Windows\n"
      ],
      "metadata": {
        "id": "aMmEikPZIaT7"
      },
      "execution_count": null,
      "outputs": []
    },
    {
      "cell_type": "code",
      "source": [
        "from googletrans import Translator\n",
        "from nltk.corpus import wordnet\n",
        "import random\n",
        "\n",
        "# Initialize translator\n",
        "translator = Translator()\n",
        "\n",
        "def translate_to_english(text):\n",
        "    \"\"\"Translate Telugu text to English.\"\"\"\n",
        "    translated = translator.translate(text, src='te', dest='en')\n",
        "    return translated.text\n",
        "\n",
        "def translate_to_telugu(text):\n",
        "    \"\"\"Translate English text to Telugu.\"\"\"\n",
        "    translated = translator.translate(text, src='en', dest='te')\n",
        "    return translated.text\n",
        "\n",
        "def get_synonyms(word):\n",
        "    \"\"\"Get synonyms for an English word using WordNet.\"\"\"\n",
        "    synonyms = set()\n",
        "    for syn in wordnet.synsets(word):\n",
        "        for lemma in syn.lemmas():\n",
        "            synonyms.add(lemma.name())\n",
        "    return list(synonyms)\n",
        "\n",
        "def synonym_replacement(text, n=1):\n",
        "    \"\"\"\n",
        "    Perform synonym replacement on the Telugu text.\n",
        "    - `n`: Number of words to replace with synonyms.\n",
        "    \"\"\"\n",
        "    # Translate to English\n",
        "    english_text = translate_to_english(text)\n",
        "    words = english_text.split()\n",
        "\n",
        "    # Select random words for synonym replacement\n",
        "    words_to_replace = random.sample(words, min(len(words), n))\n",
        "    new_words = words.copy()\n",
        "\n",
        "    for word in words_to_replace:\n",
        "        synonyms = get_synonyms(word)\n",
        "        if synonyms:\n",
        "            synonym = random.choice(synonyms)\n",
        "            new_words[new_words.index(word)] = synonym\n",
        "\n",
        "    # Translate back to Telugu\n",
        "    new_text = \" \".join(new_words)\n",
        "    return translate_to_telugu(new_text)\n",
        "\n",
        "# Example Telugu text\n",
        "telugu_text = \"ఈ రోజు వాతావరణం చాలా చల్లగా ఉంది.\"\n",
        "\n",
        "# Perform data augmentation\n",
        "augmented_text = synonym_replacement(telugu_text, n=2)\n",
        "print(\"Original Text:\", telugu_text)\n",
        "print(\"Augmented Text:\", augmented_text)\n"
      ],
      "metadata": {
        "colab": {
          "base_uri": "https://localhost:8080/"
        },
        "id": "HxVQlj7LLUrz",
        "outputId": "0a9d809e-641a-4d00-a3d8-0d0053f11295"
      },
      "execution_count": null,
      "outputs": [
        {
          "output_type": "stream",
          "name": "stdout",
          "text": [
            "Original Text: ఈ రోజు వాతావరణం చాలా చల్లగా ఉంది.\n",
            "Augmented Text: వాతావరణం ఈరోజు కూడా చల్లగా ఉంది.\n"
          ]
        }
      ]
    },
    {
      "cell_type": "code",
      "source": [],
      "metadata": {
        "id": "L3k5BJVB7nrN"
      },
      "execution_count": null,
      "outputs": []
    }
  ]
}